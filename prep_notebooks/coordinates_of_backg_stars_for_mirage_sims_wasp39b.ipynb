{
 "cells": [
  {
   "cell_type": "markdown",
   "metadata": {},
   "source": [
    "# Simple Coordinate Informaion"
   ]
  },
  {
   "cell_type": "code",
   "execution_count": 1,
   "metadata": {},
   "outputs": [
    {
     "name": "stderr",
     "output_type": "stream",
     "text": [
      "/var/folders/mf/jzbqy3z14sx1s6qkkkpgs4rc0000gn/T/ipykernel_38942/3807150272.py:5: DeprecationWarning: the ``irsa`` module has been moved to astroquery.ipac.irsa, please update your imports.\n",
      "  from astroquery.irsa import Irsa\n"
     ]
    }
   ],
   "source": [
    "import numpy as np\n",
    "from astropy.coordinates import SkyCoord, Angle\n",
    "import astropy.units as u\n",
    "from astroquery.vizier import Vizier\n",
    "from astroquery.irsa import Irsa\n",
    "from __future__ import print_function\n",
    "import matplotlib.pyplot as plt"
   ]
  },
  {
   "cell_type": "markdown",
   "metadata": {},
   "source": [
    "WASP-39 b"
   ]
  },
  {
   "cell_type": "code",
   "execution_count": 2,
   "metadata": {},
   "outputs": [],
   "source": [
    "coord1 = SkyCoord.from_name(\"WASP-39\")"
   ]
  },
  {
   "cell_type": "code",
   "execution_count": 3,
   "metadata": {
    "scrolled": true
   },
   "outputs": [
    {
     "data": {
      "text/plain": [
       "217.3267299"
      ]
     },
     "execution_count": 3,
     "metadata": {},
     "output_type": "execute_result"
    }
   ],
   "source": [
    "coord1.ra.deg"
   ]
  },
  {
   "cell_type": "code",
   "execution_count": 4,
   "metadata": {},
   "outputs": [
    {
     "data": {
      "text/plain": [
       "-3.44450085"
      ]
     },
     "execution_count": 4,
     "metadata": {},
     "output_type": "execute_result"
    }
   ],
   "source": [
    "coord1.dec.deg"
   ]
  },
  {
   "cell_type": "markdown",
   "metadata": {},
   "source": [
    "**Don't use these coordinates! Use the same 2015.5 epoch as the APT file...**"
   ]
  },
  {
   "cell_type": "markdown",
   "metadata": {},
   "source": [
    "## Query for 2MASS sources nearby\n",
    "Using the mirage.catalogs.create_catalaog as an example"
   ]
  },
  {
   "cell_type": "code",
   "execution_count": 5,
   "metadata": {},
   "outputs": [],
   "source": [
    "def filter_bad_ra_dec(table_data):\n",
    "    \"\"\"Remove targets with bad RA and/or Dec values from the input table.\n",
    "    Use the column masks to find which entries have bad RA or Dec values.\n",
    "    These will be excluded from the Mirage catalog.\n",
    "    Parameters\n",
    "    ----------\n",
    "    table_data : astropy.table.Table\n",
    "        Input table from e.g. 2MASS query\n",
    "    Returns\n",
    "    -------\n",
    "    position_mask : np.ndarray\n",
    "        1D boolean array. True for good sources, False for bad.\n",
    "    \"\"\"\n",
    "    ra_mask = ~table_data['ra'].data.mask\n",
    "    dec_mask = ~table_data['dec'].data.mask\n",
    "    position_mask = ra_mask & dec_mask\n",
    "    return position_mask\n"
   ]
  },
  {
   "cell_type": "code",
   "execution_count": 6,
   "metadata": {},
   "outputs": [],
   "source": [
    "box_width = 2048. * 0.063 * u.arcsec ## size of LW array"
   ]
  },
  {
   "cell_type": "code",
   "execution_count": 7,
   "metadata": {},
   "outputs": [],
   "source": [
    "ra_dec_string = \"{}  {}\".format(coord1.ra.deg, coord1.dec.deg)\n",
    "query_table_all = Irsa.query_region(ra_dec_string, catalog='fp_psc', spatial='Box',\n",
    "                                    width=box_width)\n",
    "\n",
    "# Exclude any entries with missing RA or Dec values\n",
    "radec_mask = filter_bad_ra_dec(query_table_all)\n",
    "#query_table = query_table_all[radec_mask]\n",
    "\n",
    "## only keep a few columns\n",
    "cols_to_keep = ['designation','ra','dec','k_m']\n",
    "query_table = query_table_all[cols_to_keep][cols_to_keep]\n",
    "\n",
    "# Column names of interest\n",
    "magnitude_column_names = ['j_m', 'h_m', 'k_m']\n",
    "#query_table, magnitude_column_names\n"
   ]
  },
  {
   "cell_type": "code",
   "execution_count": 8,
   "metadata": {},
   "outputs": [
    {
     "data": {
      "text/plain": [
       "5"
      ]
     },
     "execution_count": 8,
     "metadata": {},
     "output_type": "execute_result"
    }
   ],
   "source": [
    "len(query_table)"
   ]
  },
  {
   "cell_type": "code",
   "execution_count": 9,
   "metadata": {},
   "outputs": [
    {
     "data": {
      "text/html": [
       "<div><i>Table length=5</i>\n",
       "<table id=\"table4613351600\" class=\"table-striped table-bordered table-condensed\">\n",
       "<thead><tr><th>designation</th><th>ra</th><th>dec</th><th>k_m</th></tr></thead>\n",
       "<thead><tr><th></th><th>deg</th><th>deg</th><th>mag</th></tr></thead>\n",
       "<thead><tr><th>object</th><th>float64</th><th>float64</th><th>float64</th></tr></thead>\n",
       "<tr><td>14292106-0326284</td><td>217.337769</td><td>-3.441249</td><td>14.781</td></tr>\n",
       "<tr><td>14291840-0326403</td><td>217.326702</td><td>-3.444534</td><td>10.202</td></tr>\n",
       "<tr><td>14291673-0327377</td><td>217.319740</td><td>-3.460491</td><td>15.423</td></tr>\n",
       "<tr><td>14292130-0327190</td><td>217.338790</td><td>-3.455293</td><td>14.146</td></tr>\n",
       "<tr><td>14291841-0327431</td><td>217.326719</td><td>-3.461993</td><td>15.604</td></tr>\n",
       "</table></div>"
      ],
      "text/plain": [
       "<Table length=5>\n",
       "  designation        ra        dec       k_m  \n",
       "                    deg        deg       mag  \n",
       "     object       float64    float64   float64\n",
       "---------------- ---------- ---------- -------\n",
       "14292106-0326284 217.337769  -3.441249  14.781\n",
       "14291840-0326403 217.326702  -3.444534  10.202\n",
       "14291673-0327377 217.319740  -3.460491  15.423\n",
       "14292130-0327190 217.338790  -3.455293  14.146\n",
       "14291841-0327431 217.326719  -3.461993  15.604"
      ]
     },
     "execution_count": 9,
     "metadata": {},
     "output_type": "execute_result"
    }
   ],
   "source": [
    "query_table"
   ]
  },
  {
   "cell_type": "markdown",
   "metadata": {},
   "source": [
    "### Exclude the target from the catalog"
   ]
  },
  {
   "cell_type": "code",
   "execution_count": 10,
   "metadata": {},
   "outputs": [],
   "source": [
    "use_pts = query_table['designation'] != \"14291840-0326403\"\n",
    "use_table = query_table[use_pts]\n",
    "#use_table[cols_to_print]"
   ]
  },
  {
   "cell_type": "markdown",
   "metadata": {},
   "source": [
    "Print to put in the Yaml file"
   ]
  },
  {
   "cell_type": "markdown",
   "metadata": {},
   "source": [
    "Compact version"
   ]
  },
  {
   "cell_type": "code",
   "execution_count": 11,
   "metadata": {},
   "outputs": [
    {
     "name": "stdout",
     "output_type": "stream",
     "text": [
      "[217.337769 , 217.31974 , 217.33879 , 217.326719]\n",
      "[-3.441249 , -3.460491 , -3.455293 , -3.461993]\n",
      "[14.781 , 15.423 , 14.146 , 15.604]\n"
     ]
    }
   ],
   "source": [
    "cols_to_print = ['ra','dec','k_m']\n",
    "for oneCol in cols_to_print:\n",
    "    outArr = np.array(use_table[oneCol])\n",
    "    print(\"[\",end='')\n",
    "    for ind,item in enumerate(outArr):\n",
    "        if ind == len(outArr)-1:\n",
    "            print(\"{}\".format(item),end='')\n",
    "        else:\n",
    "            print(\"{} , \".format(item),end='')\n",
    "    print(\"]\")"
   ]
  },
  {
   "cell_type": "markdown",
   "metadata": {},
   "source": [
    "Long Version"
   ]
  },
  {
   "cell_type": "code",
   "execution_count": 12,
   "metadata": {},
   "outputs": [
    {
     "name": "stdout",
     "output_type": "stream",
     "text": [
      "ra\n",
      "- 217.337769\n",
      "- 217.31974\n",
      "- 217.33879\n",
      "- 217.326719\n",
      "dec\n",
      "- -3.441249\n",
      "- -3.460491\n",
      "- -3.455293\n",
      "- -3.461993\n",
      "k_m\n",
      "- 14.781\n",
      "- 15.423\n",
      "- 14.146\n",
      "- 15.604\n"
     ]
    }
   ],
   "source": [
    "for oneCol in cols_to_print:\n",
    "    outArr = np.array(use_table[oneCol])\n",
    "    print(oneCol)\n",
    "    for ind,item in enumerate(outArr):\n",
    "        print(\"- {}\".format(item))\n"
   ]
  },
  {
   "cell_type": "code",
   "execution_count": null,
   "metadata": {},
   "outputs": [],
   "source": []
  }
 ],
 "metadata": {
  "kernelspec": {
   "display_name": "Python 3 (ipykernel)",
   "language": "python",
   "name": "python3"
  },
  "language_info": {
   "codemirror_mode": {
    "name": "ipython",
    "version": 3
   },
   "file_extension": ".py",
   "mimetype": "text/x-python",
   "name": "python",
   "nbconvert_exporter": "python",
   "pygments_lexer": "ipython3",
   "version": "3.8.11"
  }
 },
 "nbformat": 4,
 "nbformat_minor": 2
}
